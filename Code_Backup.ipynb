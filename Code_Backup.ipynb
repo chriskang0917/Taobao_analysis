{
 "cells": [
  {
   "cell_type": "code",
   "execution_count": 1,
   "metadata": {},
   "outputs": [],
   "source": [
    "# def search_item_sales_s(behavior_Type):\n",
    "#     # 篩選前 20 名的產品 ID\n",
    "#     behav = df_item[df_item['Behavior'] == behavior_Type]\n",
    "#     ranking = behav.groupby('Item_Id')['Behavior'].count().reset_index().sort_values('Behavior', ascending=False)\n",
    "#     top_twenty_rank = ranking.iloc[:20,:].reset_index(drop=True).to_dict()\n",
    "    \n",
    "#     # 進行資料轉換並儲存成 list 型態以供 squarify tree Map 使用\n",
    "#     item_id = []\n",
    "#     item_conut = []\n",
    "    \n",
    "#     for rank in top_twenty_rank['Item_Id'].values():\n",
    "#         item_id.append(rank)\n",
    "    \n",
    "#     for rank in top_twenty_rank['Behavior'].values():\n",
    "#         item_conut.append(rank)\n",
    "    \n",
    "#     item = [item_id, item_conut]\n",
    "    \n",
    "#     return item"
   ]
  },
  {
   "cell_type": "code",
   "execution_count": 2,
   "metadata": {},
   "outputs": [],
   "source": [
    "# squarify.plot(sizes=search_item_sales_s('pv')[1], label=search_item_sales_s('pv')[0], alpha=.4)\n",
    "# plt.axis('off')\n",
    "# plt.show()"
   ]
  },
  {
   "cell_type": "markdown",
   "metadata": {},
   "source": [
    "### RFM"
   ]
  },
  {
   "cell_type": "code",
   "execution_count": 1,
   "metadata": {},
   "outputs": [],
   "source": [
    "# r = df_rfm.groupby('User_Id')['Time'].max().reset_index()\n",
    "# r.dropna(axis=0, how='any', inplace=True)\n",
    "# r = r.reset_index(drop=True)\n",
    "\n",
    "# r['R'] = (pd.to_datetime('2017-12-03') - r['Time']).dt.days\n",
    "# r = r[['User_Id', 'R']]"
   ]
  },
  {
   "cell_type": "markdown",
   "metadata": {},
   "source": [
    "### CORR"
   ]
  },
  {
   "cell_type": "code",
   "execution_count": null,
   "metadata": {},
   "outputs": [],
   "source": [
    "df_item = df[['Item_Id', 'Behavior']]\n",
    "behav = df_item[df_item['Behavior'] == 'buy']\n",
    "ranking = behav.groupby('Item_Id')['Behavior'].count().reset_index().sort_values('Behavior', ascending=False)\n",
    "top_twenty_rank = ranking.iloc[:20,:].reset_index(drop=True)\n",
    "top_twenty_rank.head()"
   ]
  },
  {
   "cell_type": "code",
   "execution_count": null,
   "metadata": {},
   "outputs": [],
   "source": [
    "# 計算各個欄位之間的相關性\n",
    "\n",
    "# 設定搜尋資料庫\n",
    "df_item = df[['Item_Id', 'Behavior']]\n",
    "\n",
    "def item_corr():\n",
    "    # create a DataFrame to calculate the corr\n",
    "    top_twenty_items = pd.DataFrame([])\n",
    "    \n",
    "    # 優先找出所有的 Items_Id\n",
    "    top_twenty_items['Item_Id'] = df_item.Item_Id.unique()\n",
    "    \n",
    "    # 根據 ID 搜尋數量\n",
    "    for behav_type in ['pv', 'cart', 'fav', 'buy']:\n",
    "        for id in top_twenty_items['Item_Id'].values:\n",
    "            l = []\n",
    "            df_item[(df_item['Behavior'] == behav_type) & (df_item['Item_Id'] == id')]\n",
    "        top_twenty_items[behav] = \n",
    "        \n",
    "    \n",
    "    return top_twenty_items\n",
    "\n",
    "item_corr()"
   ]
  },
  {
   "cell_type": "code",
   "execution_count": null,
   "metadata": {},
   "outputs": [],
   "source": [
    "# 計算各個欄位之間 Top 20 的相關性\n",
    "\n",
    "# 設定搜尋資料庫\n",
    "df_item = df[['Item_Id', 'Behavior']]\n",
    "\n",
    "def items_corr():\n",
    "    '''\n",
    "    篩選前 20 名的產品 ID\n",
    "    '''\n",
    "    # create a DataFrame to calculate the corr\n",
    "    top_twenty_items = pd.DataFrame([])\n",
    "    \n",
    "    for behav_type in ['pv', 'cart', 'fav', 'buy']:\n",
    "        behav = df_item[df_item['Behavior'] == behav_type]\n",
    "        ranking = behav.groupby('Item_Id')['Behavior'].count().reset_index().sort_values('Behavior', ascending=False)\n",
    "        top_twenty_rank = ranking.iloc[:20,:].reset_index(drop=True)\n",
    "        top_twenty_items[behav_type] = top_twenty_rank['Behavior']\n",
    "    \n",
    "    # calculate the corr between the different type\n",
    "    corr = top_twenty_items[['pv', 'cart', 'fav', 'buy']].corr()\n",
    "        \n",
    "    return corr\n",
    "\n",
    "items_corr()"
   ]
  },
  {
   "cell_type": "code",
   "execution_count": null,
   "metadata": {},
   "outputs": [],
   "source": []
  }
 ],
 "metadata": {
  "kernelspec": {
   "display_name": "Data Science",
   "language": "python",
   "name": "myenv"
  },
  "language_info": {
   "codemirror_mode": {
    "name": "ipython",
    "version": 3
   },
   "file_extension": ".py",
   "mimetype": "text/x-python",
   "name": "python",
   "nbconvert_exporter": "python",
   "pygments_lexer": "ipython3",
   "version": "3.7.6"
  }
 },
 "nbformat": 4,
 "nbformat_minor": 4
}

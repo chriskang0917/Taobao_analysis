{
 "cells": [
  {
   "cell_type": "code",
   "execution_count": null,
   "metadata": {},
   "outputs": [],
   "source": [
    "# 必要套件引入\n",
    "import pandas as pd\n",
    "import numpy as np\n",
    "\n",
    "# import necessary module\n",
    "from datetime import datetime\n",
    "from tqdm.notebook import tqdm, tnrange\n",
    "tqdm.pandas(desc=\"Loading...\")\n",
    "import swifter\n",
    "\n",
    "# Setting the pyecharts config\n",
    "from pyecharts.globals import CurrentConfig, NotebookType\n",
    "CurrentConfig.NOTEBOOK_TYPE = NotebookType.JUPYTER_LAB\n",
    "\n",
    "# Define pyecharts theme\n",
    "from pyecharts.globals import ThemeType\n",
    "\n",
    "# setting pyecharts' charts\n",
    "from pyecharts.charts import Funnel, Bar, Line, Grid, TreeMap, Page, Pie, Boxplot\n",
    "from pyecharts import options as opts\n",
    "from pyecharts.globals import ThemeType\n",
    "\n",
    "# setting plot\n",
    "import matplotlib.pyplot as plt\n",
    "import squarify"
   ]
  },
  {
   "cell_type": "markdown",
   "metadata": {},
   "source": [
    "### 一、資料清洗的過程"
   ]
  },
  {
   "cell_type": "code",
   "execution_count": null,
   "metadata": {},
   "outputs": [],
   "source": [
    "# 引入分析所需資料\n",
    "df = pd.read_csv('Data/UserBehavior.csv', nrows=10000000, header=None, parse_dates=True)\n",
    "\n",
    "# 確認資料已被引入\n",
    "print('Loading Finished! The file length is {} rows'.format(len(df)))"
   ]
  },
  {
   "cell_type": "code",
   "execution_count": null,
   "metadata": {},
   "outputs": [],
   "source": [
    "# 重新命名欄位\n",
    "df.columns = ['User_Id', 'Item_Id', 'Category_Id', 'Behavior', 'Time']\n",
    "\n",
    "# 確認表格已被重新命名\n",
    "print('Renamed column Finished...')"
   ]
  },
  {
   "cell_type": "code",
   "execution_count": null,
   "metadata": {},
   "outputs": [],
   "source": [
    "# 清洗超出時間範圍的數據\n",
    "df['Time'] = pd.to_datetime(df['Time'], unit=\"s\")\n",
    "mask_1 = df['Time'] > datetime(2017,11,24)\n",
    "mask_2 = df['Time'] < datetime(2017,12,3)\n",
    "df = df[mask_1 & mask_2]\n",
    "\n",
    "# 重設表格索引\n",
    "df = df.reset_index(drop=True)\n",
    "\n",
    "# 確認資料已被清洗\n",
    "print('Filtering data Finished!')"
   ]
  },
  {
   "cell_type": "code",
   "execution_count": null,
   "metadata": {},
   "outputs": [],
   "source": [
    "# 資料格式\n",
    "df.info()"
   ]
  },
  {
   "cell_type": "code",
   "execution_count": null,
   "metadata": {},
   "outputs": [],
   "source": [
    "# 資料前五行\n",
    "df.head()"
   ]
  },
  {
   "cell_type": "markdown",
   "metadata": {},
   "source": [
    "#### i. 縮減資料量"
   ]
  },
  {
   "cell_type": "code",
   "execution_count": null,
   "metadata": {},
   "outputs": [],
   "source": [
    "# 縮減資料量\n",
    "df_behav = df.loc[:, ['User_Id', 'Time', 'Behavior']]\n",
    "\n",
    "# 重置表格索引\n",
    "df_behav = df_behav.reset_index(drop=True)\n",
    "\n",
    "# 新增所需欄位\n",
    "df_behav['Date'] = df_behav.Time.dt.date\n",
    "df_behav['Hour'] = df_behav.Time.dt.hour"
   ]
  },
  {
   "cell_type": "code",
   "execution_count": null,
   "metadata": {},
   "outputs": [],
   "source": [
    "# 轉換資料型態\n",
    "df_behav['Date'] = df_behav.Date.astype('category')\n",
    "df_behav['Hour'] = df_behav.Hour.astype('category')\n",
    "\n",
    "df_behav['Behavior'] = df_behav.Behavior.astype('category')\n",
    "df_behav['User_Id'] = df_behav.User_Id.astype('category')"
   ]
  },
  {
   "cell_type": "code",
   "execution_count": null,
   "metadata": {},
   "outputs": [],
   "source": [
    "df_behav.info()"
   ]
  },
  {
   "cell_type": "code",
   "execution_count": null,
   "metadata": {},
   "outputs": [],
   "source": [
    "df_behav.head()"
   ]
  },
  {
   "cell_type": "markdown",
   "metadata": {},
   "source": [
    "### 二、分析內容"
   ]
  },
  {
   "cell_type": "markdown",
   "metadata": {},
   "source": [
    "#### RFM 分析流程"
   ]
  },
  {
   "cell_type": "code",
   "execution_count": null,
   "metadata": {},
   "outputs": [],
   "source": [
    "# 縮減資料量\n",
    "df_rfm = df_behav.query('Behavior == \"buy\"').loc[:, ['User_Id', 'Date', 'Time']]\n",
    "\n",
    "# 顯示資料格式\n",
    "df_rfm.info()"
   ]
  },
  {
   "cell_type": "markdown",
   "metadata": {},
   "source": [
    "#### 對 Recency 進行分析"
   ]
  },
  {
   "cell_type": "code",
   "execution_count": null,
   "metadata": {},
   "outputs": [],
   "source": [
    "# 對 Recency 進行樞紐分析\n",
    "r = df_rfm.groupby('User_Id')['Time'].max().reset_index().dropna(axis=0, how='any')"
   ]
  },
  {
   "cell_type": "code",
   "execution_count": null,
   "metadata": {},
   "outputs": [],
   "source": [
    "# 計算 Recency 的數值\n",
    "r['Recency'] = (pd.to_datetime('2017-12-03') - r['Time']).dt.days\n",
    "r.drop('Time', axis=1, inplace=True)"
   ]
  },
  {
   "cell_type": "code",
   "execution_count": null,
   "metadata": {},
   "outputs": [],
   "source": [
    "# 製作 Recency 的分布表格\n",
    "\n",
    "def boxplot_r() -> Boxplot:\n",
    "    '''\n",
    "    製作 r 的四分位圖\n",
    "    '''\n",
    "    r_data = r.Recency.to_list()\n",
    "    prepared = Boxplot().prepare_data([r_data])\n",
    "    \n",
    "    boxplot = (\n",
    "        Boxplot()\n",
    "        .add_xaxis([\"Rrecency\"])\n",
    "        .add_yaxis(\"\", prepared)\n",
    "        .set_global_opts(\n",
    "            title_opts=opts.TitleOpts(\n",
    "                title=\"Recency 資料分布\"\n",
    "            ),\n",
    "            legend_opts=opts.LegendOpts(\n",
    "                pos_top=\"5%\"\n",
    "            )\n",
    "        )\n",
    "    )\n",
    "    return boxplot\n",
    "boxplot_r().render_notebook()"
   ]
  },
  {
   "cell_type": "markdown",
   "metadata": {},
   "source": [
    "#### 對 Frequency 進行分析"
   ]
  },
  {
   "cell_type": "code",
   "execution_count": null,
   "metadata": {},
   "outputs": [],
   "source": [
    "# 進行 F 的計算\n",
    "f = df_rfm.groupby(['User_Id'])['Time'].count().reset_index()\n",
    "f = f[f['Time'] > 0].reset_index(drop=True)\n",
    "f.columns = ['User_Id', 'Frequency']\n",
    "f.head()"
   ]
  },
  {
   "cell_type": "code",
   "execution_count": null,
   "metadata": {},
   "outputs": [],
   "source": [
    "# 製作 Frequency 的分布表格\n",
    "\n",
    "def boxplot_f() -> Boxplot:\n",
    "    '''\n",
    "    製作 F 的四分位圖\n",
    "    '''\n",
    "    f_data = f.Frequency.to_list()\n",
    "    prepared = Boxplot().prepare_data([f_data])\n",
    "    \n",
    "    boxplot = (\n",
    "        Boxplot()\n",
    "        .add_xaxis([\"Frequency\"])\n",
    "        .add_yaxis(\"\", prepared)\n",
    "        .set_global_opts(\n",
    "            title_opts=opts.TitleOpts(\n",
    "                title=\"Frequency 資料分布\"\n",
    "            ),\n",
    "            legend_opts=opts.LegendOpts(\n",
    "                pos_top=\"5%\"\n",
    "            )\n",
    "        )\n",
    "    )\n",
    "    return boxplot\n",
    "boxplot_f().render_notebook()"
   ]
  },
  {
   "cell_type": "markdown",
   "metadata": {},
   "source": [
    "#### 進行分組建模"
   ]
  },
  {
   "cell_type": "code",
   "execution_count": null,
   "metadata": {},
   "outputs": [],
   "source": [
    "# 整合 R、F 兩個欄位\n",
    "rfm_table = pd.merge(r, f, left_on='User_Id', right_on='User_Id', how='inner')\n",
    "rfm_table.head()"
   ]
  },
  {
   "cell_type": "code",
   "execution_count": null,
   "metadata": {},
   "outputs": [],
   "source": [
    "# 查詢四分位數\n",
    "rfm_table.quantile([.25, .5, .75])"
   ]
  },
  {
   "cell_type": "code",
   "execution_count": null,
   "metadata": {},
   "outputs": [],
   "source": [
    "# 進行分組\n",
    "rfm_table['R_Score'] = pd.cut(rfm_table['Recency'], bins=[0, 2, 4, 11], labels=[3,2,1], right=False).astype('float')\n",
    "rfm_table['F_Score'] = pd.cut(rfm_table['Frequency'], bins=[1, 2, 3, 4, 5, 100000], labels=[5,4,3,2,1], right=False).astype('float')"
   ]
  },
  {
   "cell_type": "code",
   "execution_count": null,
   "metadata": {},
   "outputs": [],
   "source": [
    "# 依平均進階分組\n",
    "rfm_table['R_Big_then_Avg'] = (rfm_table['R_Score'] > rfm_table['R_Score'].mean()) * 1\n",
    "rfm_table['F_Big_then_Avg'] = (rfm_table['F_Score'] > rfm_table['F_Score'].mean()) * 1\n",
    "\n",
    "# 進行組別編號\n",
    "rfm_table['Type'] = (rfm_table['R_Big_then_Avg'] * 10 + rfm_table['F_Big_then_Avg'] * 1)"
   ]
  },
  {
   "cell_type": "markdown",
   "metadata": {},
   "source": [
    "#### 繪製用戶分配比例"
   ]
  },
  {
   "cell_type": "code",
   "execution_count": null,
   "metadata": {},
   "outputs": [],
   "source": [
    "# 進行資料對應轉換\n",
    "mapping_type = {\n",
    "    0: \"重點挽留用戶\",\n",
    "    1: \"一般保持用戶\",\n",
    "    10: \"潛在消費用戶\",\n",
    "    11: \"重要價值用戶\"\n",
    "}\n",
    "\n",
    "\n",
    "# 分組計算個別數值\n",
    "rfm_type = rfm_table.Type.value_counts().reset_index()\n",
    "rfm_type.columns = ['Type', 'Count']\n",
    "\n",
    "# 映射分類欄位\n",
    "rfm_type['Type'] = rfm_type.Type.map(mapping_type)\n",
    "\n",
    "# 計算比例\n",
    "rfm_type['Ratio'] = round(100 * rfm_type.Count / rfm_type.Count.sum(), 1)\n",
    "\n",
    "# 顯示結果\n",
    "rfm_type"
   ]
  },
  {
   "cell_type": "code",
   "execution_count": null,
   "metadata": {},
   "outputs": [],
   "source": [
    "# 繪製 RFM 表格\n",
    "def rfm_chart():\n",
    "    pie = (\n",
    "        Pie()\n",
    "        .add(\"\", [list(z) for z in zip(rfm_type.Type.to_list(), rfm_type.Ratio.to_list())])\n",
    "        .set_global_opts(title_opts=opts.TitleOpts(title=\"RF 用戶分類圖\"))\n",
    "        .set_series_opts(label_opts=opts.LabelOpts(formatter=\"{b}: {c}%\"))\n",
    "    )\n",
    "    return pie\n",
    "rfm_chart().render_notebook()"
   ]
  },
  {
   "cell_type": "markdown",
   "metadata": {},
   "source": [
    "### AARRR 模型"
   ]
  },
  {
   "cell_type": "markdown",
   "metadata": {},
   "source": [
    "#### 用戶一週活躍行為："
   ]
  },
  {
   "cell_type": "code",
   "execution_count": null,
   "metadata": {},
   "outputs": [],
   "source": [
    "# 縮減資料量\n",
    "df_date = df_behav.loc[:, ('User_Id', 'Date')]\n",
    "df_date.info()"
   ]
  },
  {
   "cell_type": "code",
   "execution_count": null,
   "metadata": {},
   "outputs": [],
   "source": [
    "# 計算每日活躍用戶數\n",
    "daily_active = df_date.groupby('Date')['User_Id'].nunique().reset_index()\n",
    "\n",
    "# 重新命名欄位\n",
    "daily_active.columns = ['Date', 'Volume']"
   ]
  },
  {
   "cell_type": "code",
   "execution_count": null,
   "metadata": {},
   "outputs": [],
   "source": [
    "# 繪製每日活躍人數的圖表\n",
    "def daily_act():\n",
    "    daily = daily_active.Volume.to_list()[1:]\n",
    "    week = daily_active.Date.astype(str).str.slice(stop=10).to_list()[1:]\n",
    "    line = (\n",
    "        Line()\n",
    "        .add_xaxis(week)\n",
    "        .add_yaxis(\"活躍人數\", daily)\n",
    "        .set_global_opts(\n",
    "            title_opts=opts.TitleOpts(\n",
    "                title=\"每日用戶活躍數\"\n",
    "            )\n",
    "        )\n",
    "    )\n",
    "    return line\n",
    "daily_act().render_notebook()"
   ]
  },
  {
   "cell_type": "markdown",
   "metadata": {},
   "source": [
    "#### 於 12-02 的活躍高點佔總活躍人數比"
   ]
  },
  {
   "cell_type": "code",
   "execution_count": null,
   "metadata": {},
   "outputs": [],
   "source": [
    "# 計算高點人數以及該區間所有的用戶數\n",
    "high_point = df_behav[df_behav['Date'] == \"2017-12-02\"].User_Id.nunique()\n",
    "total_user = df_behav.User_Id.nunique()\n",
    "\n",
    "# 打印出比例\n",
    "print('活躍用戶佔比為：{:.2f}%'.format(100 * high_point / total_user))"
   ]
  },
  {
   "cell_type": "markdown",
   "metadata": {},
   "source": [
    "### 一週內用戶行為變化"
   ]
  },
  {
   "cell_type": "code",
   "execution_count": null,
   "metadata": {},
   "outputs": [],
   "source": [
    "def week_behav(col):\n",
    "    '''\n",
    "    先把日期過濾成一週，再把數據進行透視分析以取出各項數據。\n",
    "    '''\n",
    "    df_week = df_behav.pivot_table(index=\"Date\", columns=\"Behavior\", aggfunc=['count']).iloc[:,:4]\n",
    "    df_week.columns = ['buy', 'cart', 'fav', 'pv']\n",
    "    behavior = df_week.reset_index()[col].to_list()[1:]\n",
    "    return behavior\n",
    "week_behav('pv')"
   ]
  },
  {
   "cell_type": "code",
   "execution_count": null,
   "metadata": {},
   "outputs": [],
   "source": [
    "\n",
    "def week_chart() -> Grid:\n",
    "    week_day = ['Sat (11/25)', 'Sun (11/26)', 'Mon (11/27)', 'Tues (11/28)', 'Wed (11/29)', 'Thur (11/30)', 'Fri (12/01)', 'Sat (12/02)']\n",
    "    bar = (\n",
    "        Bar()\n",
    "        .add_xaxis(week_day)\n",
    "        .add_yaxis(\"購買量\", week_behav(\"buy\"), stack=\"stack_1\", category_gap=50)\n",
    "        .add_yaxis(\"購物車數量\", week_behav(\"cart\"), stack=\"stack_1\", category_gap=50)\n",
    "        .add_yaxis(\"我的最愛\", week_behav(\"fav\"), stack=\"stack_1\", category_gap=50)\n",
    "        .set_series_opts(\n",
    "            label_opts=opts.LabelOpts(is_show=True)\n",
    "        )\n",
    "        .set_global_opts(\n",
    "            title_opts=opts.TitleOpts(\n",
    "                title=\"用戶行為變化週期曲線\"\n",
    "            ),\n",
    "            legend_opts=opts.LegendOpts(\n",
    "                pos_top=\"5%\"\n",
    "            )\n",
    "        )\n",
    "    )\n",
    "    \n",
    "    \n",
    "    line = (\n",
    "        Line()\n",
    "        .add_xaxis(week_day)\n",
    "        .add_yaxis(\"瀏覽人次\", week_behav(\"pv\"))\n",
    "        .set_global_opts(\n",
    "            title_opts=opts.TitleOpts(\n",
    "                title=\"用戶瀏覽人次\",\n",
    "                pos_top=\"48%\",\n",
    "            ),\n",
    "            legend_opts=opts.LegendOpts(\n",
    "                pos_top=\"50%\"\n",
    "            )\n",
    "        )\n",
    "    )\n",
    "    \n",
    "    # 把兩張表格合在一起\n",
    "    grid = (\n",
    "        Grid(init_opts=opts.InitOpts(width='1050px'))\n",
    "        .add(bar, grid_opts=opts.GridOpts(pos_bottom=\"60%\"))\n",
    "        .add(line, grid_opts=opts.GridOpts(pos_top=\"60%\"))\n",
    "    )\n",
    "    \n",
    "    return grid\n",
    "\n",
    "week_chart().render_notebook()"
   ]
  },
  {
   "cell_type": "markdown",
   "metadata": {},
   "source": [
    "#### 銷售排行"
   ]
  },
  {
   "cell_type": "code",
   "execution_count": null,
   "metadata": {},
   "outputs": [],
   "source": [
    "# 引入必要套件\n",
    "import json\n",
    "\n",
    "# 設定搜尋資料庫\n",
    "df_item = df[['Item_Id', 'Behavior']]\n",
    "\n",
    "def search_item_sales(behavior_Type) -> list:\n",
    "    '''\n",
    "    篩選前 10 名的產品 ID\n",
    "    '''\n",
    "    behav = df_item[df_item['Behavior'] == behavior_Type]\n",
    "    ranking = behav.groupby('Item_Id')['Behavior'].count().reset_index().sort_values('Behavior', ascending=False)\n",
    "    top_twenty_rank = ranking.iloc[:10,:].reset_index(drop=True).to_dict()\n",
    "    \n",
    "    # 進行資料轉換並儲存成 list 型態以供 pyechart tree Map 使用\n",
    "    item_list = []\n",
    "    for rank in range(20):\n",
    "        treemap = {}\n",
    "        treemap['value'] = top_twenty_rank['Behavior'][rank]\n",
    "        treemap['name'] = top_twenty_rank['Item_Id'][rank]\n",
    "        item_list.append(treemap)\n",
    "    \n",
    "    return item_list"
   ]
  },
  {
   "cell_type": "code",
   "execution_count": null,
   "metadata": {},
   "outputs": [],
   "source": [
    "\n",
    "def item_ranking(Behavior_Type, title) -> TreeMap:\n",
    "    data = [\n",
    "        {\n",
    "            \"name\": Behavior_Type,\n",
    "            \"children\": search_item_sales(Behavior_Type),   \n",
    "        }\n",
    "    ]\n",
    "    \n",
    "    treemap = (\n",
    "        TreeMap(\n",
    "            init_opts=opts.InitOpts(theme=\"light\")\n",
    "        )\n",
    "        .add(\"數量\", data, is_selected=True, roam='move',\n",
    "             label_opts=opts.LabelOpts(\n",
    "                 position='inside'\n",
    "             )   \n",
    "        )\n",
    "        .set_global_opts(\n",
    "            title_opts=opts.TitleOpts(\n",
    "                title=title\n",
    "            )\n",
    "        )\n",
    "    )\n",
    "    return treemap\n",
    "item_ranking('buy', '商品銷售排行').render_notebook()"
   ]
  },
  {
   "cell_type": "code",
   "execution_count": null,
   "metadata": {},
   "outputs": [],
   "source": [
    "# 顯示購物車排行\n",
    "item_ranking('cart', '購物車商品排行').render_notebook()"
   ]
  },
  {
   "cell_type": "code",
   "execution_count": null,
   "metadata": {},
   "outputs": [],
   "source": [
    "# 顯示我的最愛排行\n",
    "item_ranking('fav', '我的最愛商品排行').render_notebook()"
   ]
  },
  {
   "cell_type": "code",
   "execution_count": null,
   "metadata": {},
   "outputs": [],
   "source": [
    "# 顯示瀏覽次數排行\n",
    "item_ranking('pv', '商品瀏覽排行').render_notebook()"
   ]
  }
 ],
 "metadata": {
  "kernelspec": {
   "display_name": "Data Science",
   "language": "python",
   "name": "myenv"
  },
  "language_info": {
   "codemirror_mode": {
    "name": "ipython",
    "version": 3
   },
   "file_extension": ".py",
   "mimetype": "text/x-python",
   "name": "python",
   "nbconvert_exporter": "python",
   "pygments_lexer": "ipython3",
   "version": "3.6.10"
  }
 },
 "nbformat": 4,
 "nbformat_minor": 4
}
